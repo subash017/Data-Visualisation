{
 "cells": [
  {
   "cell_type": "markdown",
   "id": "32f9876d",
   "metadata": {
    "papermill": {
     "duration": 0.010025,
     "end_time": "2022-09-30T12:36:43.308778",
     "exception": false,
     "start_time": "2022-09-30T12:36:43.298753",
     "status": "completed"
    },
    "tags": []
   },
   "source": [
    "**This notebook is an exercise in the [Data Visualization](https://www.kaggle.com/learn/data-visualization) course.  You can reference the tutorial at [this link](https://www.kaggle.com/alexisbcook/scatter-plots).**\n",
    "\n",
    "---\n"
   ]
  },
  {
   "cell_type": "markdown",
   "id": "02329674",
   "metadata": {
    "papermill": {
     "duration": 0.008289,
     "end_time": "2022-09-30T12:36:43.326050",
     "exception": false,
     "start_time": "2022-09-30T12:36:43.317761",
     "status": "completed"
    },
    "tags": []
   },
   "source": [
    "In this exercise, you will use your new knowledge to propose a solution to a real-world scenario.  To succeed, you will need to import data into Python, answer questions using the data, and generate **scatter plots** to understand patterns in the data.\n",
    "\n",
    "## Scenario\n",
    "\n",
    "You work for a major candy producer, and your goal is to write a report that your company can use to guide the design of its next product.  Soon after starting your research, you stumble across this [very interesting dataset](https://fivethirtyeight.com/features/the-ultimate-halloween-candy-power-ranking/) containing results from a fun survey to crowdsource favorite candies.\n",
    "\n",
    "## Setup\n",
    "\n",
    "Run the next cell to import and configure the Python libraries that you need to complete the exercise."
   ]
  },
  {
   "cell_type": "code",
   "execution_count": 1,
   "id": "ef8b386d",
   "metadata": {
    "execution": {
     "iopub.execute_input": "2022-09-30T12:36:43.346178Z",
     "iopub.status.busy": "2022-09-30T12:36:43.344928Z",
     "iopub.status.idle": "2022-09-30T12:36:44.553449Z",
     "shell.execute_reply": "2022-09-30T12:36:44.552040Z"
    },
    "papermill": {
     "duration": 1.222481,
     "end_time": "2022-09-30T12:36:44.557162",
     "exception": false,
     "start_time": "2022-09-30T12:36:43.334681",
     "status": "completed"
    },
    "tags": []
   },
   "outputs": [
    {
     "name": "stdout",
     "output_type": "stream",
     "text": [
      "Setup Complete\n"
     ]
    }
   ],
   "source": [
    "import pandas as pd\n",
    "pd.plotting.register_matplotlib_converters()\n",
    "import matplotlib.pyplot as plt\n",
    "%matplotlib inline\n",
    "import seaborn as sns\n",
    "print(\"Setup Complete\")"
   ]
  },
  {
   "cell_type": "markdown",
   "id": "57919396",
   "metadata": {
    "papermill": {
     "duration": 0.008425,
     "end_time": "2022-09-30T12:36:44.574876",
     "exception": false,
     "start_time": "2022-09-30T12:36:44.566451",
     "status": "completed"
    },
    "tags": []
   },
   "source": [
    "The questions below will give you feedback on your work. Run the following cell to set up our feedback system."
   ]
  },
  {
   "cell_type": "code",
   "execution_count": 2,
   "id": "f93a05e5",
   "metadata": {
    "execution": {
     "iopub.execute_input": "2022-09-30T12:36:44.594601Z",
     "iopub.status.busy": "2022-09-30T12:36:44.593935Z",
     "iopub.status.idle": "2022-09-30T12:36:44.674795Z",
     "shell.execute_reply": "2022-09-30T12:36:44.673540Z"
    },
    "papermill": {
     "duration": 0.093486,
     "end_time": "2022-09-30T12:36:44.677108",
     "exception": false,
     "start_time": "2022-09-30T12:36:44.583622",
     "status": "completed"
    },
    "tags": []
   },
   "outputs": [
    {
     "name": "stdout",
     "output_type": "stream",
     "text": [
      "Setup Complete\n"
     ]
    }
   ],
   "source": [
    "# Set up code checking\n",
    "import os\n",
    "if not os.path.exists(\"../input/candy.csv\"):\n",
    "    os.symlink(\"../input/data-for-datavis/candy.csv\", \"../input/candy.csv\") \n",
    "from learntools.core import binder\n",
    "binder.bind(globals())\n",
    "from learntools.data_viz_to_coder.ex4 import *\n",
    "print(\"Setup Complete\")"
   ]
  },
  {
   "cell_type": "markdown",
   "id": "3df97e36",
   "metadata": {
    "papermill": {
     "duration": 0.012656,
     "end_time": "2022-09-30T12:36:44.701554",
     "exception": false,
     "start_time": "2022-09-30T12:36:44.688898",
     "status": "completed"
    },
    "tags": []
   },
   "source": [
    "## Step 1: Load the Data\n",
    "\n",
    "Read the candy data file into `candy_data`.  Use the `\"id\"` column to label the rows."
   ]
  },
  {
   "cell_type": "code",
   "execution_count": 3,
   "id": "677ad4d8",
   "metadata": {
    "execution": {
     "iopub.execute_input": "2022-09-30T12:36:44.722111Z",
     "iopub.status.busy": "2022-09-30T12:36:44.721727Z",
     "iopub.status.idle": "2022-09-30T12:36:44.737533Z",
     "shell.execute_reply": "2022-09-30T12:36:44.736380Z"
    },
    "papermill": {
     "duration": 0.028338,
     "end_time": "2022-09-30T12:36:44.739939",
     "exception": false,
     "start_time": "2022-09-30T12:36:44.711601",
     "status": "completed"
    },
    "tags": []
   },
   "outputs": [
    {
     "data": {
      "application/javascript": [
       "parent.postMessage({\"jupyterEvent\": \"custom.exercise_interaction\", \"data\": {\"outcomeType\": 1, \"valueTowardsCompletion\": 0.3333333333333333, \"interactionType\": 1, \"questionType\": 1, \"questionId\": \"1_LoadData\", \"learnToolsVersion\": \"0.3.4\", \"failureMessage\": \"\", \"exceptionClass\": \"\", \"trace\": \"\"}}, \"*\")"
      ],
      "text/plain": [
       "<IPython.core.display.Javascript object>"
      ]
     },
     "metadata": {},
     "output_type": "display_data"
    },
    {
     "data": {
      "text/markdown": [
       "<span style=\"color:#33cc33\">Correct</span>"
      ],
      "text/plain": [
       "Correct"
      ]
     },
     "metadata": {},
     "output_type": "display_data"
    }
   ],
   "source": [
    "# Path of the file to read\n",
    "candy_filepath = \"../input/candy.csv\"\n",
    "\n",
    "# Fill in the line below to read the file into a variable candy_data\n",
    "candy_data = pd.read_csv(candy_filepath, index_col=\"id\")\n",
    "\n",
    "# Run the line below with no changes to check that you've loaded the data correctly\n",
    "step_1.check()"
   ]
  },
  {
   "cell_type": "code",
   "execution_count": 4,
   "id": "21c55958",
   "metadata": {
    "execution": {
     "iopub.execute_input": "2022-09-30T12:36:44.759858Z",
     "iopub.status.busy": "2022-09-30T12:36:44.759433Z",
     "iopub.status.idle": "2022-09-30T12:36:44.764305Z",
     "shell.execute_reply": "2022-09-30T12:36:44.763079Z"
    },
    "papermill": {
     "duration": 0.017553,
     "end_time": "2022-09-30T12:36:44.766608",
     "exception": false,
     "start_time": "2022-09-30T12:36:44.749055",
     "status": "completed"
    },
    "tags": []
   },
   "outputs": [],
   "source": [
    "# Lines below will give you a hint or solution code\n",
    "#step_1.hint()\n",
    "#step_1.solution()"
   ]
  },
  {
   "cell_type": "markdown",
   "id": "77ef5301",
   "metadata": {
    "papermill": {
     "duration": 0.008903,
     "end_time": "2022-09-30T12:36:44.784821",
     "exception": false,
     "start_time": "2022-09-30T12:36:44.775918",
     "status": "completed"
    },
    "tags": []
   },
   "source": [
    "## Step 2: Review the data\n",
    "\n",
    "Use a Python command to print the first five rows of the data."
   ]
  },
  {
   "cell_type": "code",
   "execution_count": 5,
   "id": "224b72e8",
   "metadata": {
    "execution": {
     "iopub.execute_input": "2022-09-30T12:36:44.805820Z",
     "iopub.status.busy": "2022-09-30T12:36:44.805394Z",
     "iopub.status.idle": "2022-09-30T12:36:44.827765Z",
     "shell.execute_reply": "2022-09-30T12:36:44.826535Z"
    },
    "papermill": {
     "duration": 0.035506,
     "end_time": "2022-09-30T12:36:44.830130",
     "exception": false,
     "start_time": "2022-09-30T12:36:44.794624",
     "status": "completed"
    },
    "tags": []
   },
   "outputs": [
    {
     "data": {
      "text/html": [
       "<div>\n",
       "<style scoped>\n",
       "    .dataframe tbody tr th:only-of-type {\n",
       "        vertical-align: middle;\n",
       "    }\n",
       "\n",
       "    .dataframe tbody tr th {\n",
       "        vertical-align: top;\n",
       "    }\n",
       "\n",
       "    .dataframe thead th {\n",
       "        text-align: right;\n",
       "    }\n",
       "</style>\n",
       "<table border=\"1\" class=\"dataframe\">\n",
       "  <thead>\n",
       "    <tr style=\"text-align: right;\">\n",
       "      <th></th>\n",
       "      <th>competitorname</th>\n",
       "      <th>chocolate</th>\n",
       "      <th>fruity</th>\n",
       "      <th>caramel</th>\n",
       "      <th>peanutyalmondy</th>\n",
       "      <th>nougat</th>\n",
       "      <th>crispedricewafer</th>\n",
       "      <th>hard</th>\n",
       "      <th>bar</th>\n",
       "      <th>pluribus</th>\n",
       "      <th>sugarpercent</th>\n",
       "      <th>pricepercent</th>\n",
       "      <th>winpercent</th>\n",
       "    </tr>\n",
       "    <tr>\n",
       "      <th>id</th>\n",
       "      <th></th>\n",
       "      <th></th>\n",
       "      <th></th>\n",
       "      <th></th>\n",
       "      <th></th>\n",
       "      <th></th>\n",
       "      <th></th>\n",
       "      <th></th>\n",
       "      <th></th>\n",
       "      <th></th>\n",
       "      <th></th>\n",
       "      <th></th>\n",
       "      <th></th>\n",
       "    </tr>\n",
       "  </thead>\n",
       "  <tbody>\n",
       "    <tr>\n",
       "      <th>0</th>\n",
       "      <td>100 Grand</td>\n",
       "      <td>Yes</td>\n",
       "      <td>No</td>\n",
       "      <td>Yes</td>\n",
       "      <td>No</td>\n",
       "      <td>No</td>\n",
       "      <td>Yes</td>\n",
       "      <td>No</td>\n",
       "      <td>Yes</td>\n",
       "      <td>No</td>\n",
       "      <td>0.732</td>\n",
       "      <td>0.860</td>\n",
       "      <td>66.971725</td>\n",
       "    </tr>\n",
       "    <tr>\n",
       "      <th>1</th>\n",
       "      <td>3 Musketeers</td>\n",
       "      <td>Yes</td>\n",
       "      <td>No</td>\n",
       "      <td>No</td>\n",
       "      <td>No</td>\n",
       "      <td>Yes</td>\n",
       "      <td>No</td>\n",
       "      <td>No</td>\n",
       "      <td>Yes</td>\n",
       "      <td>No</td>\n",
       "      <td>0.604</td>\n",
       "      <td>0.511</td>\n",
       "      <td>67.602936</td>\n",
       "    </tr>\n",
       "    <tr>\n",
       "      <th>2</th>\n",
       "      <td>Air Heads</td>\n",
       "      <td>No</td>\n",
       "      <td>Yes</td>\n",
       "      <td>No</td>\n",
       "      <td>No</td>\n",
       "      <td>No</td>\n",
       "      <td>No</td>\n",
       "      <td>No</td>\n",
       "      <td>No</td>\n",
       "      <td>No</td>\n",
       "      <td>0.906</td>\n",
       "      <td>0.511</td>\n",
       "      <td>52.341465</td>\n",
       "    </tr>\n",
       "    <tr>\n",
       "      <th>3</th>\n",
       "      <td>Almond Joy</td>\n",
       "      <td>Yes</td>\n",
       "      <td>No</td>\n",
       "      <td>No</td>\n",
       "      <td>Yes</td>\n",
       "      <td>No</td>\n",
       "      <td>No</td>\n",
       "      <td>No</td>\n",
       "      <td>Yes</td>\n",
       "      <td>No</td>\n",
       "      <td>0.465</td>\n",
       "      <td>0.767</td>\n",
       "      <td>50.347546</td>\n",
       "    </tr>\n",
       "    <tr>\n",
       "      <th>4</th>\n",
       "      <td>Baby Ruth</td>\n",
       "      <td>Yes</td>\n",
       "      <td>No</td>\n",
       "      <td>Yes</td>\n",
       "      <td>Yes</td>\n",
       "      <td>Yes</td>\n",
       "      <td>No</td>\n",
       "      <td>No</td>\n",
       "      <td>Yes</td>\n",
       "      <td>No</td>\n",
       "      <td>0.604</td>\n",
       "      <td>0.767</td>\n",
       "      <td>56.914547</td>\n",
       "    </tr>\n",
       "  </tbody>\n",
       "</table>\n",
       "</div>"
      ],
      "text/plain": [
       "   competitorname chocolate fruity caramel peanutyalmondy nougat  \\\n",
       "id                                                                 \n",
       "0       100 Grand       Yes     No     Yes             No     No   \n",
       "1    3 Musketeers       Yes     No      No             No    Yes   \n",
       "2       Air Heads        No    Yes      No             No     No   \n",
       "3      Almond Joy       Yes     No      No            Yes     No   \n",
       "4       Baby Ruth       Yes     No     Yes            Yes    Yes   \n",
       "\n",
       "   crispedricewafer hard  bar pluribus  sugarpercent  pricepercent  winpercent  \n",
       "id                                                                              \n",
       "0               Yes   No  Yes       No         0.732         0.860   66.971725  \n",
       "1                No   No  Yes       No         0.604         0.511   67.602936  \n",
       "2                No   No   No       No         0.906         0.511   52.341465  \n",
       "3                No   No  Yes       No         0.465         0.767   50.347546  \n",
       "4                No   No  Yes       No         0.604         0.767   56.914547  "
      ]
     },
     "execution_count": 5,
     "metadata": {},
     "output_type": "execute_result"
    }
   ],
   "source": [
    "# Print the first five rows of the data\n",
    "candy_data.head()\n"
   ]
  },
  {
   "cell_type": "markdown",
   "id": "31cce7ee",
   "metadata": {
    "papermill": {
     "duration": 0.008819,
     "end_time": "2022-09-30T12:36:44.848294",
     "exception": false,
     "start_time": "2022-09-30T12:36:44.839475",
     "status": "completed"
    },
    "tags": []
   },
   "source": [
    "The dataset contains 83 rows, where each corresponds to a different candy bar.  There are 13 columns:\n",
    "- `'competitorname'` contains the name of the candy bar. \n",
    "- the next **9** columns (from `'chocolate'` to `'pluribus'`) describe the candy.  For instance, rows with chocolate candies have `\"Yes\"` in the `'chocolate'` column (and candies without chocolate have `\"No\"` in the same column).\n",
    "- `'sugarpercent'` provides some indication of the amount of sugar, where higher values signify higher sugar content.\n",
    "- `'pricepercent'` shows the price per unit, relative to the other candies in the dataset.\n",
    "- `'winpercent'` is calculated from the survey results; higher values indicate that the candy was more popular with survey respondents.\n",
    "\n",
    "Use the first five rows of the data to answer the questions below."
   ]
  },
  {
   "cell_type": "code",
   "execution_count": 6,
   "id": "aaa14da3",
   "metadata": {
    "execution": {
     "iopub.execute_input": "2022-09-30T12:36:44.869448Z",
     "iopub.status.busy": "2022-09-30T12:36:44.868783Z",
     "iopub.status.idle": "2022-09-30T12:36:44.878235Z",
     "shell.execute_reply": "2022-09-30T12:36:44.877168Z"
    },
    "papermill": {
     "duration": 0.02237,
     "end_time": "2022-09-30T12:36:44.880360",
     "exception": false,
     "start_time": "2022-09-30T12:36:44.857990",
     "status": "completed"
    },
    "tags": []
   },
   "outputs": [
    {
     "data": {
      "application/javascript": [
       "parent.postMessage({\"jupyterEvent\": \"custom.exercise_interaction\", \"data\": {\"outcomeType\": 1, \"valueTowardsCompletion\": 0.3333333333333333, \"interactionType\": 1, \"questionType\": 1, \"questionId\": \"2_ReviewData\", \"learnToolsVersion\": \"0.3.4\", \"failureMessage\": \"\", \"exceptionClass\": \"\", \"trace\": \"\"}}, \"*\")"
      ],
      "text/plain": [
       "<IPython.core.display.Javascript object>"
      ]
     },
     "metadata": {},
     "output_type": "display_data"
    },
    {
     "data": {
      "text/markdown": [
       "<span style=\"color:#33cc33\">Correct</span>"
      ],
      "text/plain": [
       "Correct"
      ]
     },
     "metadata": {},
     "output_type": "display_data"
    }
   ],
   "source": [
    "# Fill in the line below: Which candy was more popular with survey respondents:\n",
    "# '3 Musketeers' or 'Almond Joy'?  (Please enclose your answer in single quotes.)\n",
    "more_popular = '3 Musketeers'\n",
    "\n",
    "# Fill in the line below: Which candy has higher sugar content: 'Air Heads'\n",
    "# or 'Baby Ruth'? (Please enclose your answer in single quotes.)\n",
    "more_sugar = 'Air Heads'\n",
    "\n",
    "# Check your answers\n",
    "step_2.check()"
   ]
  },
  {
   "cell_type": "code",
   "execution_count": 7,
   "id": "9e85594f",
   "metadata": {
    "execution": {
     "iopub.execute_input": "2022-09-30T12:36:44.901858Z",
     "iopub.status.busy": "2022-09-30T12:36:44.901453Z",
     "iopub.status.idle": "2022-09-30T12:36:44.905807Z",
     "shell.execute_reply": "2022-09-30T12:36:44.904649Z"
    },
    "papermill": {
     "duration": 0.017957,
     "end_time": "2022-09-30T12:36:44.908170",
     "exception": false,
     "start_time": "2022-09-30T12:36:44.890213",
     "status": "completed"
    },
    "tags": []
   },
   "outputs": [],
   "source": [
    "# Lines below will give you a hint or solution code\n",
    "#step_2.hint()\n",
    "#step_2.solution()"
   ]
  },
  {
   "cell_type": "markdown",
   "id": "ea507fcf",
   "metadata": {
    "papermill": {
     "duration": 0.009143,
     "end_time": "2022-09-30T12:36:44.927255",
     "exception": false,
     "start_time": "2022-09-30T12:36:44.918112",
     "status": "completed"
    },
    "tags": []
   },
   "source": [
    "## Step 3: The role of sugar\n",
    "\n",
    "Do people tend to prefer candies with higher sugar content?  \n",
    "\n",
    "#### Part A\n",
    "\n",
    "Create a scatter plot that shows the relationship between `'sugarpercent'` (on the horizontal x-axis) and `'winpercent'` (on the vertical y-axis).  _Don't add a regression line just yet -- you'll do that in the next step!_"
   ]
  },
  {
   "cell_type": "code",
   "execution_count": 8,
   "id": "18306a49",
   "metadata": {
    "execution": {
     "iopub.execute_input": "2022-09-30T12:36:44.948015Z",
     "iopub.status.busy": "2022-09-30T12:36:44.947626Z",
     "iopub.status.idle": "2022-09-30T12:36:45.222933Z",
     "shell.execute_reply": "2022-09-30T12:36:45.221742Z"
    },
    "papermill": {
     "duration": 0.288631,
     "end_time": "2022-09-30T12:36:45.225534",
     "exception": false,
     "start_time": "2022-09-30T12:36:44.936903",
     "status": "completed"
    },
    "tags": []
   },
   "outputs": [
    {
     "data": {
      "application/javascript": [
       "parent.postMessage({\"jupyterEvent\": \"custom.exercise_interaction\", \"data\": {\"outcomeType\": 1, \"valueTowardsCompletion\": 0.3333333333333333, \"interactionType\": 1, \"questionType\": 2, \"questionId\": \"3.1_PlotBlueScatter\", \"learnToolsVersion\": \"0.3.4\", \"failureMessage\": \"\", \"exceptionClass\": \"\", \"trace\": \"\"}}, \"*\")"
      ],
      "text/plain": [
       "<IPython.core.display.Javascript object>"
      ]
     },
     "metadata": {},
     "output_type": "display_data"
    },
    {
     "data": {
      "text/markdown": [
       "<span style=\"color:#33cc33\">Correct</span>"
      ],
      "text/plain": [
       "Correct"
      ]
     },
     "metadata": {},
     "output_type": "display_data"
    },
    {
     "data": {
      "image/png": "[encoded data removed]",
      "text/plain": [
       "<Figure size 432x288 with 1 Axes>"
      ]
     },
     "metadata": {
      "needs_background": "light"
     },
     "output_type": "display_data"
    }
   ],
   "source": [
    "# Scatter plot showing the relationship between 'sugarpercent' and 'winpercent'\n",
    "sns.scatterplot(x=candy_data['sugarpercent'], y=candy_data['winpercent'])\n",
    "\n",
    "# Check your answer\n",
    "step_3.a.check()"
   ]
  },
  {
   "cell_type": "code",
   "execution_count": 9,
   "id": "b517a8ea",
   "metadata": {
    "execution": {
     "iopub.execute_input": "2022-09-30T12:36:45.248170Z",
     "iopub.status.busy": "2022-09-30T12:36:45.247485Z",
     "iopub.status.idle": "2022-09-30T12:36:45.252304Z",
     "shell.execute_reply": "2022-09-30T12:36:45.251287Z"
    },
    "papermill": {
     "duration": 0.018759,
     "end_time": "2022-09-30T12:36:45.254661",
     "exception": false,
     "start_time": "2022-09-30T12:36:45.235902",
     "status": "completed"
    },
    "tags": []
   },
   "outputs": [],
   "source": [
    "# Lines below will give you a hint or solution code\n",
    "#step_3.a.hint()\n",
    "#step_3.a.solution_plot()"
   ]
  },
  {
   "cell_type": "markdown",
   "id": "f95843cc",
   "metadata": {
    "papermill": {
     "duration": 0.009872,
     "end_time": "2022-09-30T12:36:45.274807",
     "exception": false,
     "start_time": "2022-09-30T12:36:45.264935",
     "status": "completed"
    },
    "tags": []
   },
   "source": [
    "#### Part B\n",
    "\n",
    "Does the scatter plot show a **strong** correlation between the two variables?  If so, are candies with more sugar relatively more or less popular with the survey respondents?"
   ]
  },
  {
   "cell_type": "code",
   "execution_count": 10,
   "id": "098fd170",
   "metadata": {
    "execution": {
     "iopub.execute_input": "2022-09-30T12:36:45.297616Z",
     "iopub.status.busy": "2022-09-30T12:36:45.296495Z",
     "iopub.status.idle": "2022-09-30T12:36:45.301147Z",
     "shell.execute_reply": "2022-09-30T12:36:45.300287Z"
    },
    "papermill": {
     "duration": 0.01826,
     "end_time": "2022-09-30T12:36:45.303169",
     "exception": false,
     "start_time": "2022-09-30T12:36:45.284909",
     "status": "completed"
    },
    "tags": []
   },
   "outputs": [],
   "source": [
    "#step_3.b.hint()"
   ]
  },
  {
   "cell_type": "code",
   "execution_count": 11,
   "id": "aaacce97",
   "metadata": {
    "execution": {
     "iopub.execute_input": "2022-09-30T12:36:45.325457Z",
     "iopub.status.busy": "2022-09-30T12:36:45.324663Z",
     "iopub.status.idle": "2022-09-30T12:36:45.332303Z",
     "shell.execute_reply": "2022-09-30T12:36:45.331590Z"
    },
    "papermill": {
     "duration": 0.021122,
     "end_time": "2022-09-30T12:36:45.334440",
     "exception": false,
     "start_time": "2022-09-30T12:36:45.313318",
     "status": "completed"
    },
    "tags": []
   },
   "outputs": [
    {
     "data": {
      "application/javascript": [
       "parent.postMessage({\"jupyterEvent\": \"custom.exercise_interaction\", \"data\": {\"interactionType\": 3, \"questionType\": 4, \"questionId\": \"3.2_ThinkBlueScatter\", \"learnToolsVersion\": \"0.3.4\", \"valueTowardsCompletion\": 0.0, \"failureMessage\": \"\", \"exceptionClass\": \"\", \"trace\": \"\", \"outcomeType\": 4}}, \"*\")"
      ],
      "text/plain": [
       "<IPython.core.display.Javascript object>"
      ]
     },
     "metadata": {},
     "output_type": "display_data"
    },
    {
     "data": {
      "text/markdown": [
       "<span style=\"color:#33cc99\">Solution:</span> The scatter plot does not show a strong correlation between the two variables. Since there is no clear relationship between the two variables, this tells us that sugar content does not play a strong role in candy popularity."
      ],
      "text/plain": [
       "Solution: The scatter plot does not show a strong correlation between the two variables. Since there is no clear relationship between the two variables, this tells us that sugar content does not play a strong role in candy popularity."
      ]
     },
     "metadata": {},
     "output_type": "display_data"
    }
   ],
   "source": [
    "# Check your answer (Run this code cell to receive credit!)\n",
    "step_3.b.solution()"
   ]
  },
  {
   "cell_type": "markdown",
   "id": "3885adbd",
   "metadata": {
    "papermill": {
     "duration": 0.010227,
     "end_time": "2022-09-30T12:36:45.355390",
     "exception": false,
     "start_time": "2022-09-30T12:36:45.345163",
     "status": "completed"
    },
    "tags": []
   },
   "source": [
    "## Step 4: Take a closer look\n",
    "\n",
    "#### Part A\n",
    "\n",
    "Create the same scatter plot you created in **Step 3**, but now with a regression line!"
   ]
  },
  {
   "cell_type": "code",
   "execution_count": 12,
   "id": "7fada7e6",
   "metadata": {
    "execution": {
     "iopub.execute_input": "2022-09-30T12:36:45.378279Z",
     "iopub.status.busy": "2022-09-30T12:36:45.377870Z",
     "iopub.status.idle": "2022-09-30T12:36:45.718283Z",
     "shell.execute_reply": "2022-09-30T12:36:45.716854Z"
    },
    "papermill": {
     "duration": 0.354799,
     "end_time": "2022-09-30T12:36:45.720977",
     "exception": false,
     "start_time": "2022-09-30T12:36:45.366178",
     "status": "completed"
    },
    "tags": []
   },
   "outputs": [
    {
     "data": {
      "application/javascript": [
       "parent.postMessage({\"jupyterEvent\": \"custom.exercise_interaction\", \"data\": {\"outcomeType\": 1, \"valueTowardsCompletion\": 0.3333333333333333, \"interactionType\": 1, \"questionType\": 2, \"questionId\": \"4.1_PlotBlueReg\", \"learnToolsVersion\": \"0.3.4\", \"failureMessage\": \"\", \"exceptionClass\": \"\", \"trace\": \"\"}}, \"*\")"
      ],
      "text/plain": [
       "<IPython.core.display.Javascript object>"
      ]
     },
     "metadata": {},
     "output_type": "display_data"
    },
    {
     "data": {
      "text/markdown": [
       "<span style=\"color:#33cc33\">Correct</span>"
      ],
      "text/plain": [
       "Correct"
      ]
     },
     "metadata": {},
     "output_type": "display_data"
    },
    {
     "data": {
      "image/png": "[encoded data removed]",
      "text/plain": [
       "<Figure size 432x288 with 1 Axes>"
      ]
     },
     "metadata": {
      "needs_background": "light"
     },
     "output_type": "display_data"
    }
   ],
   "source": [
    "# Scatter plot w/ regression line showing the relationship between 'sugarpercent' and 'winpercent'\n",
    "sns.regplot(x=candy_data['sugarpercent'], y=candy_data['winpercent'])\n",
    "\n",
    "# Check your answer\n",
    "step_4.a.check()"
   ]
  },
  {
   "cell_type": "code",
   "execution_count": 13,
   "id": "7a1173de",
   "metadata": {
    "execution": {
     "iopub.execute_input": "2022-09-30T12:36:45.745292Z",
     "iopub.status.busy": "2022-09-30T12:36:45.744525Z",
     "iopub.status.idle": "2022-09-30T12:36:45.749676Z",
     "shell.execute_reply": "2022-09-30T12:36:45.748569Z"
    },
    "papermill": {
     "duration": 0.019639,
     "end_time": "2022-09-30T12:36:45.751932",
     "exception": false,
     "start_time": "2022-09-30T12:36:45.732293",
     "status": "completed"
    },
    "tags": []
   },
   "outputs": [],
   "source": [
    "# Lines below will give you a hint or solution code\n",
    "#step_4.a.hint()\n",
    "#step_4.a.solution_plot()"
   ]
  },
  {
   "cell_type": "markdown",
   "id": "d6e408a7",
   "metadata": {
    "papermill": {
     "duration": 0.01065,
     "end_time": "2022-09-30T12:36:45.773756",
     "exception": false,
     "start_time": "2022-09-30T12:36:45.763106",
     "status": "completed"
    },
    "tags": []
   },
   "source": [
    "#### Part B\n",
    "\n",
    "According to the plot above, is there a **slight** correlation between `'winpercent'` and `'sugarpercent'`?  What does this tell you about the candy that people tend to prefer?"
   ]
  },
  {
   "cell_type": "code",
   "execution_count": 14,
   "id": "f5350167",
   "metadata": {
    "execution": {
     "iopub.execute_input": "2022-09-30T12:36:45.798139Z",
     "iopub.status.busy": "2022-09-30T12:36:45.797235Z",
     "iopub.status.idle": "2022-09-30T12:36:45.802430Z",
     "shell.execute_reply": "2022-09-30T12:36:45.801279Z"
    },
    "papermill": {
     "duration": 0.020136,
     "end_time": "2022-09-30T12:36:45.804906",
     "exception": false,
     "start_time": "2022-09-30T12:36:45.784770",
     "status": "completed"
    },
    "tags": []
   },
   "outputs": [],
   "source": [
    "#step_4.b.hint()"
   ]
  },
  {
   "cell_type": "code",
   "execution_count": 15,
   "id": "8e4525b8",
   "metadata": {
    "execution": {
     "iopub.execute_input": "2022-09-30T12:36:45.829112Z",
     "iopub.status.busy": "2022-09-30T12:36:45.828694Z",
     "iopub.status.idle": "2022-09-30T12:36:45.837149Z",
     "shell.execute_reply": "2022-09-30T12:36:45.836274Z"
    },
    "papermill": {
     "duration": 0.023143,
     "end_time": "2022-09-30T12:36:45.839270",
     "exception": false,
     "start_time": "2022-09-30T12:36:45.816127",
     "status": "completed"
    },
    "tags": []
   },
   "outputs": [
    {
     "data": {
      "application/javascript": [
       "parent.postMessage({\"jupyterEvent\": \"custom.exercise_interaction\", \"data\": {\"interactionType\": 3, \"questionType\": 4, \"questionId\": \"4.2_ThinkBlueReg\", \"learnToolsVersion\": \"0.3.4\", \"valueTowardsCompletion\": 0.0, \"failureMessage\": \"\", \"exceptionClass\": \"\", \"trace\": \"\", \"outcomeType\": 4}}, \"*\")"
      ],
      "text/plain": [
       "<IPython.core.display.Javascript object>"
      ]
     },
     "metadata": {},
     "output_type": "display_data"
    },
    {
     "data": {
      "text/markdown": [
       "<span style=\"color:#33cc99\">Solution:</span> Since the regression line has a slightly positive slope, this tells us that there is a slightly positive correlation between `'winpercent'` and `'sugarpercent'`. Thus, people have a slight preference for candies containing relatively more sugar."
      ],
      "text/plain": [
       "Solution: Since the regression line has a slightly positive slope, this tells us that there is a slightly positive correlation between `'winpercent'` and `'sugarpercent'`. Thus, people have a slight preference for candies containing relatively more sugar."
      ]
     },
     "metadata": {},
     "output_type": "display_data"
    }
   ],
   "source": [
    "# Check your answer (Run this code cell to receive credit!)\n",
    "step_4.b.solution()"
   ]
  },
  {
   "cell_type": "markdown",
   "id": "c22f0409",
   "metadata": {
    "papermill": {
     "duration": 0.01087,
     "end_time": "2022-09-30T12:36:45.861682",
     "exception": false,
     "start_time": "2022-09-30T12:36:45.850812",
     "status": "completed"
    },
    "tags": []
   },
   "source": [
    "## Step 5: Chocolate!\n",
    "\n",
    "In the code cell below, create a scatter plot to show the relationship between `'pricepercent'` (on the horizontal x-axis) and `'winpercent'` (on the vertical y-axis). Use the `'chocolate'` column to color-code the points.  _Don't add any regression lines just yet -- you'll do that in the next step!_"
   ]
  },
  {
   "cell_type": "code",
   "execution_count": 16,
   "id": "e331dad5",
   "metadata": {
    "execution": {
     "iopub.execute_input": "2022-09-30T12:36:45.885684Z",
     "iopub.status.busy": "2022-09-30T12:36:45.885229Z",
     "iopub.status.idle": "2022-09-30T12:36:46.201233Z",
     "shell.execute_reply": "2022-09-30T12:36:46.200050Z"
    },
    "papermill": {
     "duration": 0.331026,
     "end_time": "2022-09-30T12:36:46.203899",
     "exception": false,
     "start_time": "2022-09-30T12:36:45.872873",
     "status": "completed"
    },
    "tags": []
   },
   "outputs": [
    {
     "data": {
      "application/javascript": [
       "parent.postMessage({\"jupyterEvent\": \"custom.exercise_interaction\", \"data\": {\"outcomeType\": 1, \"valueTowardsCompletion\": 0.3333333333333333, \"interactionType\": 1, \"questionType\": 2, \"questionId\": \"5_ColorScatter\", \"learnToolsVersion\": \"0.3.4\", \"failureMessage\": \"\", \"exceptionClass\": \"\", \"trace\": \"\"}}, \"*\")"
      ],
      "text/plain": [
       "<IPython.core.display.Javascript object>"
      ]
     },
     "metadata": {},
     "output_type": "display_data"
    },
    {
     "data": {
      "text/markdown": [
       "<span style=\"color:#33cc33\">Correct</span>"
      ],
      "text/plain": [
       "Correct"
      ]
     },
     "metadata": {},
     "output_type": "display_data"
    },
    {
     "data": {
      "image/png": "[encoded data removed]",
      "text/plain": [
       "<Figure size 432x288 with 1 Axes>"
      ]
     },
     "metadata": {
      "needs_background": "light"
     },
     "output_type": "display_data"
    }
   ],
   "source": [
    "# Scatter plot showing the relationship between 'pricepercent', 'winpercent', and 'chocolate'\n",
    "sns.scatterplot(x=candy_data['pricepercent'], y=candy_data['winpercent'], hue=candy_data['chocolate'])\n",
    "\n",
    "# Check your answer\n",
    "step_5.check()"
   ]
  },
  {
   "cell_type": "code",
   "execution_count": 17,
   "id": "e8f680cf",
   "metadata": {
    "execution": {
     "iopub.execute_input": "2022-09-30T12:36:46.230639Z",
     "iopub.status.busy": "2022-09-30T12:36:46.230215Z",
     "iopub.status.idle": "2022-09-30T12:36:46.234591Z",
     "shell.execute_reply": "2022-09-30T12:36:46.233459Z"
    },
    "papermill": {
     "duration": 0.020316,
     "end_time": "2022-09-30T12:36:46.236941",
     "exception": false,
     "start_time": "2022-09-30T12:36:46.216625",
     "status": "completed"
    },
    "tags": []
   },
   "outputs": [],
   "source": [
    "# Lines below will give you a hint or solution code\n",
    "#step_5.hint()\n",
    "#step_5.solution_plot()"
   ]
  },
  {
   "cell_type": "markdown",
   "id": "f55531a0",
   "metadata": {
    "papermill": {
     "duration": 0.011879,
     "end_time": "2022-09-30T12:36:46.260875",
     "exception": false,
     "start_time": "2022-09-30T12:36:46.248996",
     "status": "completed"
    },
    "tags": []
   },
   "source": [
    "Can you see any interesting patterns in the scatter plot?  We'll investigate this plot further  by adding regression lines in the next step!\n",
    "\n",
    "## Step 6: Investigate chocolate\n",
    "\n",
    "#### Part A\n",
    "\n",
    "Create the same scatter plot you created in **Step 5**, but now with two regression lines, corresponding to (1) chocolate candies and (2) candies without chocolate."
   ]
  },
  {
   "cell_type": "code",
   "execution_count": 18,
   "id": "f97d67da",
   "metadata": {
    "execution": {
     "iopub.execute_input": "2022-09-30T12:36:46.286442Z",
     "iopub.status.busy": "2022-09-30T12:36:46.285760Z",
     "iopub.status.idle": "2022-09-30T12:36:46.935052Z",
     "shell.execute_reply": "2022-09-30T12:36:46.933901Z"
    },
    "papermill": {
     "duration": 0.66501,
     "end_time": "2022-09-30T12:36:46.937615",
     "exception": false,
     "start_time": "2022-09-30T12:36:46.272605",
     "status": "completed"
    },
    "tags": []
   },
   "outputs": [
    {
     "data": {
      "application/javascript": [
       "parent.postMessage({\"jupyterEvent\": \"custom.exercise_interaction\", \"data\": {\"outcomeType\": 1, \"valueTowardsCompletion\": 0.3333333333333333, \"interactionType\": 1, \"questionType\": 2, \"questionId\": \"6.1_PlotColorReg\", \"learnToolsVersion\": \"0.3.4\", \"failureMessage\": \"\", \"exceptionClass\": \"\", \"trace\": \"\"}}, \"*\")"
      ],
      "text/plain": [
       "<IPython.core.display.Javascript object>"
      ]
     },
     "metadata": {},
     "output_type": "display_data"
    },
    {
     "data": {
      "text/markdown": [
       "<span style=\"color:#33cc33\">Correct</span>"
      ],
      "text/plain": [
       "Correct"
      ]
     },
     "metadata": {},
     "output_type": "display_data"
    },
    {
     "data": {
      "image/png": "[encoded data removed]",
      "text/plain": [
       "<Figure size 416.375x360 with 1 Axes>"
      ]
     },
     "metadata": {
      "needs_background": "light"
     },
     "output_type": "display_data"
    }
   ],
   "source": [
    "# Color-coded scatter plot w/ regression lines\n",
    "sns.lmplot(x=\"pricepercent\", y=\"winpercent\", hue=\"chocolate\", data=candy_data)\n",
    "\n",
    "# Check your answer\n",
    "step_6.a.check()"
   ]
  },
  {
   "cell_type": "code",
   "execution_count": 19,
   "id": "49f90dff",
   "metadata": {
    "execution": {
     "iopub.execute_input": "2022-09-30T12:36:46.964250Z",
     "iopub.status.busy": "2022-09-30T12:36:46.963851Z",
     "iopub.status.idle": "2022-09-30T12:36:46.968351Z",
     "shell.execute_reply": "2022-09-30T12:36:46.967284Z"
    },
    "papermill": {
     "duration": 0.020462,
     "end_time": "2022-09-30T12:36:46.970730",
     "exception": false,
     "start_time": "2022-09-30T12:36:46.950268",
     "status": "completed"
    },
    "tags": []
   },
   "outputs": [],
   "source": [
    "# Lines below will give you a hint or solution code\n",
    "#step_6.a.hint()\n",
    "#step_6.a.solution_plot()"
   ]
  },
  {
   "cell_type": "markdown",
   "id": "c0b23b54",
   "metadata": {
    "papermill": {
     "duration": 0.012166,
     "end_time": "2022-09-30T12:36:46.995367",
     "exception": false,
     "start_time": "2022-09-30T12:36:46.983201",
     "status": "completed"
    },
    "tags": []
   },
   "source": [
    "#### Part B\n",
    "\n",
    "Using the regression lines, what conclusions can you draw about the effects of chocolate and price on candy popularity?"
   ]
  },
  {
   "cell_type": "code",
   "execution_count": 20,
   "id": "48053f40",
   "metadata": {
    "execution": {
     "iopub.execute_input": "2022-09-30T12:36:47.022502Z",
     "iopub.status.busy": "2022-09-30T12:36:47.022089Z",
     "iopub.status.idle": "2022-09-30T12:36:47.026707Z",
     "shell.execute_reply": "2022-09-30T12:36:47.025598Z"
    },
    "papermill": {
     "duration": 0.020823,
     "end_time": "2022-09-30T12:36:47.029094",
     "exception": false,
     "start_time": "2022-09-30T12:36:47.008271",
     "status": "completed"
    },
    "tags": []
   },
   "outputs": [],
   "source": [
    "#step_6.b.hint()"
   ]
  },
  {
   "cell_type": "code",
   "execution_count": 21,
   "id": "ea7ab087",
   "metadata": {
    "execution": {
     "iopub.execute_input": "2022-09-30T12:36:47.055656Z",
     "iopub.status.busy": "2022-09-30T12:36:47.055232Z",
     "iopub.status.idle": "2022-09-30T12:36:47.063637Z",
     "shell.execute_reply": "2022-09-30T12:36:47.062637Z"
    },
    "papermill": {
     "duration": 0.024101,
     "end_time": "2022-09-30T12:36:47.065879",
     "exception": false,
     "start_time": "2022-09-30T12:36:47.041778",
     "status": "completed"
    },
    "tags": []
   },
   "outputs": [
    {
     "data": {
      "application/javascript": [
       "parent.postMessage({\"jupyterEvent\": \"custom.exercise_interaction\", \"data\": {\"interactionType\": 3, \"questionType\": 4, \"questionId\": \"6.2_ThinkColorReg\", \"learnToolsVersion\": \"0.3.4\", \"valueTowardsCompletion\": 0.0, \"failureMessage\": \"\", \"exceptionClass\": \"\", \"trace\": \"\", \"outcomeType\": 4}}, \"*\")"
      ],
      "text/plain": [
       "<IPython.core.display.Javascript object>"
      ]
     },
     "metadata": {},
     "output_type": "display_data"
    },
    {
     "data": {
      "text/markdown": [
       "<span style=\"color:#33cc99\">Solution:</span> We'll begin with the regression line for chocolate candies. Since this line has a slightly positive slope, we can say that more expensive chocolate candies tend to be more popular (than relatively cheaper chocolate candies).  Likewise, since the regression line for candies without chocolate has a negative slope, we can say that if candies don't contain chocolate, they tend to be more popular when they are cheaper.  One important note, however, is that the dataset is quite small -- so we shouldn't invest too much trust in these patterns!  To inspire more confidence in the results, we should add more candies to the dataset."
      ],
      "text/plain": [
       "Solution: We'll begin with the regression line for chocolate candies. Since this line has a slightly positive slope, we can say that more expensive chocolate candies tend to be more popular (than relatively cheaper chocolate candies).  Likewise, since the regression line for candies without chocolate has a negative slope, we can say that if candies don't contain chocolate, they tend to be more popular when they are cheaper.  One important note, however, is that the dataset is quite small -- so we shouldn't invest too much trust in these patterns!  To inspire more confidence in the results, we should add more candies to the dataset."
      ]
     },
     "metadata": {},
     "output_type": "display_data"
    }
   ],
   "source": [
    "# Check your answer (Run this code cell to receive credit!)\n",
    "step_6.b.solution()"
   ]
  },
  {
   "cell_type": "markdown",
   "id": "a0522385",
   "metadata": {
    "papermill": {
     "duration": 0.012225,
     "end_time": "2022-09-30T12:36:47.090763",
     "exception": false,
     "start_time": "2022-09-30T12:36:47.078538",
     "status": "completed"
    },
    "tags": []
   },
   "source": [
    "## Step 7: Everybody loves chocolate.\n",
    "\n",
    "#### Part A\n",
    "\n",
    "Create a categorical scatter plot to highlight the relationship between `'chocolate'` and `'winpercent'`.  Put `'chocolate'` on the (horizontal) x-axis, and `'winpercent'` on the (vertical) y-axis."
   ]
  },
  {
   "cell_type": "code",
   "execution_count": 22,
   "id": "42554588",
   "metadata": {
    "execution": {
     "iopub.execute_input": "2022-09-30T12:36:47.117375Z",
     "iopub.status.busy": "2022-09-30T12:36:47.116997Z",
     "iopub.status.idle": "2022-09-30T12:36:47.344960Z",
     "shell.execute_reply": "2022-09-30T12:36:47.343741Z"
    },
    "papermill": {
     "duration": 0.24453,
     "end_time": "2022-09-30T12:36:47.347651",
     "exception": false,
     "start_time": "2022-09-30T12:36:47.103121",
     "status": "completed"
    },
    "tags": []
   },
   "outputs": [
    {
     "data": {
      "application/javascript": [
       "parent.postMessage({\"jupyterEvent\": \"custom.exercise_interaction\", \"data\": {\"outcomeType\": 1, \"valueTowardsCompletion\": 0.3333333333333333, \"interactionType\": 1, \"questionType\": 2, \"questionId\": \"7.1_PlotSwarm\", \"learnToolsVersion\": \"0.3.4\", \"failureMessage\": \"\", \"exceptionClass\": \"\", \"trace\": \"\"}}, \"*\")"
      ],
      "text/plain": [
       "<IPython.core.display.Javascript object>"
      ]
     },
     "metadata": {},
     "output_type": "display_data"
    },
    {
     "data": {
      "text/markdown": [
       "<span style=\"color:#33cc33\">Correct</span>"
      ],
      "text/plain": [
       "Correct"
      ]
     },
     "metadata": {},
     "output_type": "display_data"
    },
    {
     "data": {
      "image/png": "[encoded data removed]",
      "text/plain": [
       "<Figure size 432x288 with 1 Axes>"
      ]
     },
     "metadata": {
      "needs_background": "light"
     },
     "output_type": "display_data"
    }
   ],
   "source": [
    "# Scatter plot showing the relationship between 'chocolate' and 'winpercent'\n",
    "sns.swarmplot(x=candy_data['chocolate'], y=candy_data['winpercent'])\n",
    "\n",
    "# Check your answer\n",
    "step_7.a.check()"
   ]
  },
  {
   "cell_type": "code",
   "execution_count": 23,
   "id": "007b34dd",
   "metadata": {
    "execution": {
     "iopub.execute_input": "2022-09-30T12:36:47.375732Z",
     "iopub.status.busy": "2022-09-30T12:36:47.375286Z",
     "iopub.status.idle": "2022-09-30T12:36:47.379936Z",
     "shell.execute_reply": "2022-09-30T12:36:47.378881Z"
    },
    "papermill": {
     "duration": 0.021202,
     "end_time": "2022-09-30T12:36:47.382101",
     "exception": false,
     "start_time": "2022-09-30T12:36:47.360899",
     "status": "completed"
    },
    "tags": []
   },
   "outputs": [],
   "source": [
    "# Lines below will give you a hint or solution code\n",
    "#step_7.a.hint()\n",
    "#step_7.a.solution_plot()"
   ]
  },
  {
   "cell_type": "markdown",
   "id": "9db420c9",
   "metadata": {
    "papermill": {
     "duration": 0.012756,
     "end_time": "2022-09-30T12:36:47.408051",
     "exception": false,
     "start_time": "2022-09-30T12:36:47.395295",
     "status": "completed"
    },
    "tags": []
   },
   "source": [
    "#### Part B\n",
    "\n",
    "You decide to dedicate a section of your report to the fact that chocolate candies tend to be more popular than candies without chocolate.  Which plot is more appropriate to tell this story: the plot from **Step 6**, or the plot from **Step 7**?"
   ]
  },
  {
   "cell_type": "code",
   "execution_count": 24,
   "id": "2eff5447",
   "metadata": {
    "execution": {
     "iopub.execute_input": "2022-09-30T12:36:47.436441Z",
     "iopub.status.busy": "2022-09-30T12:36:47.435710Z",
     "iopub.status.idle": "2022-09-30T12:36:47.440274Z",
     "shell.execute_reply": "2022-09-30T12:36:47.439124Z"
    },
    "papermill": {
     "duration": 0.021312,
     "end_time": "2022-09-30T12:36:47.442537",
     "exception": false,
     "start_time": "2022-09-30T12:36:47.421225",
     "status": "completed"
    },
    "tags": []
   },
   "outputs": [],
   "source": [
    "#step_7.b.hint()"
   ]
  },
  {
   "cell_type": "code",
   "execution_count": 25,
   "id": "29f154f3",
   "metadata": {
    "execution": {
     "iopub.execute_input": "2022-09-30T12:36:47.470448Z",
     "iopub.status.busy": "2022-09-30T12:36:47.470023Z",
     "iopub.status.idle": "2022-09-30T12:36:47.478883Z",
     "shell.execute_reply": "2022-09-30T12:36:47.477749Z"
    },
    "papermill": {
     "duration": 0.025167,
     "end_time": "2022-09-30T12:36:47.481041",
     "exception": false,
     "start_time": "2022-09-30T12:36:47.455874",
     "status": "completed"
    },
    "tags": []
   },
   "outputs": [
    {
     "data": {
      "application/javascript": [
       "parent.postMessage({\"jupyterEvent\": \"custom.exercise_interaction\", \"data\": {\"interactionType\": 3, \"questionType\": 4, \"questionId\": \"7.2_ThinkSwarm\", \"learnToolsVersion\": \"0.3.4\", \"valueTowardsCompletion\": 0.0, \"failureMessage\": \"\", \"exceptionClass\": \"\", \"trace\": \"\", \"outcomeType\": 4}}, \"*\")"
      ],
      "text/plain": [
       "<IPython.core.display.Javascript object>"
      ]
     },
     "metadata": {},
     "output_type": "display_data"
    },
    {
     "data": {
      "text/markdown": [
       "<span style=\"color:#33cc99\">Solution:</span> In this case, the categorical scatter plot from **Step 7** is the more appropriate plot. While both plots tell the desired story, the plot from **Step 6** conveys far more information that could distract from the main point."
      ],
      "text/plain": [
       "Solution: In this case, the categorical scatter plot from **Step 7** is the more appropriate plot. While both plots tell the desired story, the plot from **Step 6** conveys far more information that could distract from the main point."
      ]
     },
     "metadata": {},
     "output_type": "display_data"
    }
   ],
   "source": [
    "# Check your answer (Run this code cell to receive credit!)\n",
    "step_7.b.solution()"
   ]
  },
  {
   "cell_type": "markdown",
   "id": "678311de",
   "metadata": {
    "papermill": {
     "duration": 0.01301,
     "end_time": "2022-09-30T12:36:47.507510",
     "exception": false,
     "start_time": "2022-09-30T12:36:47.494500",
     "status": "completed"
    },
    "tags": []
   },
   "source": [
    "## Keep going\n",
    "\n",
    "Explore **[histograms and density plots](https://www.kaggle.com/alexisbcook/distributions)**."
   ]
  },
  {
   "cell_type": "markdown",
   "id": "c2abad14",
   "metadata": {
    "papermill": {
     "duration": 0.013072,
     "end_time": "2022-09-30T12:36:47.534104",
     "exception": false,
     "start_time": "2022-09-30T12:36:47.521032",
     "status": "completed"
    },
    "tags": []
   },
   "source": [
    "---\n",
    "\n",
    "\n",
    "\n",
    "\n",
    "*Have questions or comments? Visit the [course discussion forum](https://www.kaggle.com/learn/data-visualization/discussion) to chat with other learners.*"
   ]
  }
 ],
 "metadata": {
  "kernelspec": {
   "display_name": "Python 3",
   "language": "python",
   "name": "python3"
  },
  "language_info": {
   "codemirror_mode": {
    "name": "ipython",
    "version": 3
   },
   "file_extension": ".py",
   "mimetype": "text/x-python",
   "name": "python",
   "nbconvert_exporter": "python",
   "pygments_lexer": "ipython3",
   "version": "3.7.12"
  },
  "papermill": {
   "default_parameters": {},
   "duration": 14.299854,
   "end_time": "2022-09-30T12:36:48.270072",
   "environment_variables": {},
   "exception": null,
   "input_path": "__notebook__.ipynb",
   "output_path": "__notebook__.ipynb",
   "parameters": {},
   "start_time": "2022-09-30T12:36:33.970218",
   "version": "2.3.4"
  }
 },
 "nbformat": 4,
 "nbformat_minor": 5
}
